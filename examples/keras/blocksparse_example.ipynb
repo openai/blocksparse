{
 "cells": [
  {
   "cell_type": "code",
   "execution_count": 1,
   "metadata": {},
   "outputs": [],
   "source": [
    "import tensorflow as tf\n",
    "from tensorflow.keras.preprocessing.image import ImageDataGenerator\n",
    "import numpy as np\n",
    "from blocksparse_layer import BlockSparse\n",
    "from sparsity_pattern_initializers import BarabasiAlbert\n",
    "import matplotlib.pyplot as plt"
   ]
  },
  {
   "cell_type": "code",
   "execution_count": 2,
   "metadata": {},
   "outputs": [],
   "source": [
    "# Load dataset\n",
    "mnist = tf.keras.datasets.cifar10\n",
    "\n",
    "(x_train, y_train), (x_test, y_test) = mnist.load_data()\n",
    "x_train, x_test = x_train / 255.0, x_test / 255.0\n",
    "\n",
    "# Create data generator for augmentation\n",
    "train_gen = ImageDataGenerator(\n",
    "    featurewise_center=False,  # set input mean to 0 over the dataset\n",
    "    samplewise_center=False,  # set each sample mean to 0\n",
    "    featurewise_std_normalization=False,  # divide inputs by std of the dataset\n",
    "    samplewise_std_normalization=False,  # divide each input by its std\n",
    "    zca_whitening=False,  # apply ZCA whitening\n",
    "    rotation_range=10,  # randomly rotate images in the range (degrees, 0 to 180)\n",
    "    width_shift_range=0.1,  # randomly shift images horizontally (fraction of total width)\n",
    "    height_shift_range=0.1,  # randomly shift images vertically (fraction of total height)\n",
    "    horizontal_flip=True,  # randomly flip images\n",
    "    vertical_flip=False)  # randomly flip images\n",
    "train_gen.fit(x_train)\n",
    "gen_flow = train_gen.flow(x_train, y_train, batch_size=64)"
   ]
  },
  {
   "cell_type": "code",
   "execution_count": 3,
   "metadata": {},
   "outputs": [
    {
     "data": {
      "image/png": "[encoded data removed]",
      "text/plain": [
       "<Figure size 432x288 with 1 Axes>"
      ]
     },
     "metadata": {
      "needs_background": "light"
     },
     "output_type": "display_data"
    },
    {
     "data": {
      "image/png": "[encoded data removed]",
      "text/plain": [
       "<Figure size 432x288 with 1 Axes>"
      ]
     },
     "metadata": {
      "needs_background": "light"
     },
     "output_type": "display_data"
    }
   ],
   "source": [
    "# Define model\n",
    "input_shape = (x_train.shape[1:])\n",
    "\n",
    "model = tf.keras.models.Sequential([\n",
    "    tf.keras.layers.Flatten(input_shape=input_shape),\n",
    "    BlockSparse(units=2048,\n",
    "                sparsity_mask_initializer=BarabasiAlbert(9),\n",
    "                blocksize=32,\n",
    "                feature_axis=0,\n",
    "                activation=tf.nn.relu),\n",
    "    BlockSparse(units=2048,\n",
    "            sparsity_mask_initializer=BarabasiAlbert(9),\n",
    "            blocksize=32,\n",
    "            feature_axis=0,\n",
    "            activation=tf.nn.relu),\n",
    "    BlockSparse(units=1024,\n",
    "            sparsity_mask_initializer=BarabasiAlbert(9),\n",
    "            blocksize=32,\n",
    "            feature_axis=0,\n",
    "            activation=tf.nn.relu),\n",
    "    tf.keras.layers.Dropout(0.2),\n",
    "    tf.keras.layers.Dense(10, activation=tf.nn.softmax)\n",
    "])\n",
    "\n",
    "# Plot the layout of the blocksparse layers\n",
    "plt.imshow(model.layers[1].bsmm.layout)\n",
    "plt.show()\n",
    "\n",
    "plt.imshow(model.layers[2].bsmm.layout)\n",
    "plt.show()"
   ]
  },
  {
   "cell_type": "code",
   "execution_count": 4,
   "metadata": {
    "scrolled": false
   },
   "outputs": [
    {
     "name": "stdout",
     "output_type": "stream",
     "text": [
      "Epoch 1/70\n",
      "782/782 [==============================] - 20s 26ms/step - loss: 2.1556 - acc: 0.1753 - val_loss: 1.9805 - val_acc: 0.2634\n",
      "Epoch 2/70\n",
      "782/782 [==============================] - 19s 24ms/step - loss: 1.9448 - acc: 0.2841 - val_loss: 1.8054 - val_acc: 0.3467\n",
      "Epoch 3/70\n",
      "782/782 [==============================] - 19s 24ms/step - loss: 1.8231 - acc: 0.3385 - val_loss: 1.7055 - val_acc: 0.3920\n",
      "Epoch 4/70\n",
      "782/782 [==============================] - 19s 24ms/step - loss: 1.7375 - acc: 0.3737 - val_loss: 1.6294 - val_acc: 0.4147\n",
      "Epoch 5/70\n",
      "782/782 [==============================] - 19s 24ms/step - loss: 1.6781 - acc: 0.3951 - val_loss: 1.5671 - val_acc: 0.4417\n",
      "Epoch 6/70\n",
      "782/782 [==============================] - 19s 24ms/step - loss: 1.6381 - acc: 0.4073 - val_loss: 1.5279 - val_acc: 0.4520\n",
      "Epoch 7/70\n",
      "782/782 [==============================] - 18s 24ms/step - loss: 1.5968 - acc: 0.4240 - val_loss: 1.5178 - val_acc: 0.4590\n",
      "Epoch 8/70\n",
      "782/782 [==============================] - 19s 24ms/step - loss: 1.5736 - acc: 0.4323 - val_loss: 1.4632 - val_acc: 0.4709\n",
      "Epoch 9/70\n",
      "782/782 [==============================] - 19s 25ms/step - loss: 1.5417 - acc: 0.4455 - val_loss: 1.4369 - val_acc: 0.4834\n",
      "Epoch 10/70\n",
      "782/782 [==============================] - 19s 24ms/step - loss: 1.5155 - acc: 0.4550 - val_loss: 1.4041 - val_acc: 0.5023\n",
      "Epoch 11/70\n",
      "782/782 [==============================] - 19s 24ms/step - loss: 1.4934 - acc: 0.4628 - val_loss: 1.4050 - val_acc: 0.5025\n",
      "Epoch 12/70\n",
      "782/782 [==============================] - 19s 24ms/step - loss: 1.4787 - acc: 0.4677 - val_loss: 1.3833 - val_acc: 0.5080\n",
      "Epoch 13/70\n",
      "782/782 [==============================] - 19s 24ms/step - loss: 1.4579 - acc: 0.4755 - val_loss: 1.4262 - val_acc: 0.4885\n",
      "Epoch 14/70\n",
      "782/782 [==============================] - 18s 24ms/step - loss: 1.4410 - acc: 0.4830 - val_loss: 1.3716 - val_acc: 0.5104\n",
      "Epoch 15/70\n",
      "782/782 [==============================] - 19s 24ms/step - loss: 1.4223 - acc: 0.4876 - val_loss: 1.3763 - val_acc: 0.5122\n",
      "Epoch 16/70\n",
      "782/782 [==============================] - 19s 24ms/step - loss: 1.4018 - acc: 0.4952 - val_loss: 1.3439 - val_acc: 0.5173\n",
      "Epoch 17/70\n",
      "782/782 [==============================] - 19s 24ms/step - loss: 1.3894 - acc: 0.4996 - val_loss: 1.3252 - val_acc: 0.5228\n",
      "Epoch 18/70\n",
      "782/782 [==============================] - 19s 24ms/step - loss: 1.3788 - acc: 0.5032 - val_loss: 1.3389 - val_acc: 0.5164\n",
      "Epoch 19/70\n",
      "782/782 [==============================] - 19s 24ms/step - loss: 1.3614 - acc: 0.5114 - val_loss: 1.2923 - val_acc: 0.5370\n",
      "Epoch 20/70\n",
      "782/782 [==============================] - 18s 23ms/step - loss: 1.3545 - acc: 0.5124 - val_loss: 1.2964 - val_acc: 0.5354\n",
      "Epoch 21/70\n",
      "782/782 [==============================] - 18s 23ms/step - loss: 1.3363 - acc: 0.5184 - val_loss: 1.2856 - val_acc: 0.5435\n",
      "Epoch 22/70\n",
      "782/782 [==============================] - 19s 24ms/step - loss: 1.3255 - acc: 0.5239 - val_loss: 1.2981 - val_acc: 0.5343\n",
      "Epoch 23/70\n",
      "782/782 [==============================] - 18s 23ms/step - loss: 1.3168 - acc: 0.5266 - val_loss: 1.2496 - val_acc: 0.5538\n",
      "Epoch 24/70\n",
      "782/782 [==============================] - 18s 23ms/step - loss: 1.3075 - acc: 0.5307 - val_loss: 1.2631 - val_acc: 0.5495\n",
      "Epoch 25/70\n",
      "782/782 [==============================] - 18s 22ms/step - loss: 1.2909 - acc: 0.5369 - val_loss: 1.2515 - val_acc: 0.5509\n",
      "Epoch 26/70\n",
      "782/782 [==============================] - 18s 23ms/step - loss: 1.2864 - acc: 0.5380 - val_loss: 1.2395 - val_acc: 0.5534\n",
      "Epoch 27/70\n",
      "782/782 [==============================] - 18s 23ms/step - loss: 1.2723 - acc: 0.5449 - val_loss: 1.2600 - val_acc: 0.5462\n",
      "Epoch 28/70\n",
      "782/782 [==============================] - 18s 23ms/step - loss: 1.2596 - acc: 0.5487 - val_loss: 1.2315 - val_acc: 0.5579\n",
      "Epoch 29/70\n",
      "782/782 [==============================] - 18s 22ms/step - loss: 1.2581 - acc: 0.5486 - val_loss: 1.2147 - val_acc: 0.5679\n",
      "Epoch 30/70\n",
      "782/782 [==============================] - 18s 22ms/step - loss: 1.2478 - acc: 0.5516 - val_loss: 1.2240 - val_acc: 0.5618\n",
      "Epoch 31/70\n",
      "782/782 [==============================] - 18s 22ms/step - loss: 1.2322 - acc: 0.5577 - val_loss: 1.2365 - val_acc: 0.5624\n",
      "Epoch 32/70\n",
      "782/782 [==============================] - 17s 22ms/step - loss: 1.2227 - acc: 0.5594 - val_loss: 1.2121 - val_acc: 0.5713\n",
      "Epoch 33/70\n",
      "782/782 [==============================] - 18s 23ms/step - loss: 1.2175 - acc: 0.5631 - val_loss: 1.1999 - val_acc: 0.5690\n",
      "Epoch 34/70\n",
      "782/782 [==============================] - 18s 23ms/step - loss: 1.2092 - acc: 0.5664 - val_loss: 1.2147 - val_acc: 0.5636\n",
      "Epoch 35/70\n",
      "782/782 [==============================] - 18s 22ms/step - loss: 1.2017 - acc: 0.5682 - val_loss: 1.1827 - val_acc: 0.5775\n",
      "Epoch 36/70\n",
      "782/782 [==============================] - 18s 23ms/step - loss: 1.1947 - acc: 0.5700 - val_loss: 1.1996 - val_acc: 0.5667\n",
      "Epoch 37/70\n",
      "782/782 [==============================] - 18s 23ms/step - loss: 1.1822 - acc: 0.5731 - val_loss: 1.1867 - val_acc: 0.5754\n",
      "Epoch 38/70\n",
      "782/782 [==============================] - 18s 23ms/step - loss: 1.1815 - acc: 0.5746 - val_loss: 1.1945 - val_acc: 0.5737\n",
      "Epoch 39/70\n",
      "782/782 [==============================] - 18s 23ms/step - loss: 1.1690 - acc: 0.5795 - val_loss: 1.1883 - val_acc: 0.5806\n",
      "Epoch 40/70\n",
      "782/782 [==============================] - 18s 23ms/step - loss: 1.1623 - acc: 0.5815 - val_loss: 1.1801 - val_acc: 0.5720\n",
      "Epoch 41/70\n",
      "782/782 [==============================] - 18s 23ms/step - loss: 1.1576 - acc: 0.5859 - val_loss: 1.1609 - val_acc: 0.5866\n",
      "Epoch 42/70\n",
      "782/782 [==============================] - 18s 23ms/step - loss: 1.1482 - acc: 0.5866 - val_loss: 1.2112 - val_acc: 0.5715\n",
      "Epoch 43/70\n",
      "782/782 [==============================] - 18s 23ms/step - loss: 1.1325 - acc: 0.5925 - val_loss: 1.1698 - val_acc: 0.5788\n",
      "Epoch 44/70\n",
      "782/782 [==============================] - 18s 22ms/step - loss: 1.1310 - acc: 0.5925 - val_loss: 1.1588 - val_acc: 0.5858\n",
      "Epoch 45/70\n",
      "782/782 [==============================] - 18s 23ms/step - loss: 1.1267 - acc: 0.5965 - val_loss: 1.1520 - val_acc: 0.5956\n",
      "Epoch 46/70\n",
      "782/782 [==============================] - 18s 24ms/step - loss: 1.1201 - acc: 0.6007 - val_loss: 1.1707 - val_acc: 0.5883\n",
      "Epoch 47/70\n",
      "782/782 [==============================] - 19s 25ms/step - loss: 1.1076 - acc: 0.6011 - val_loss: 1.1562 - val_acc: 0.5879\n",
      "Epoch 48/70\n",
      "782/782 [==============================] - 19s 24ms/step - loss: 1.1057 - acc: 0.6008 - val_loss: 1.1772 - val_acc: 0.5885\n",
      "Epoch 49/70\n",
      "782/782 [==============================] - 19s 25ms/step - loss: 1.0940 - acc: 0.6072 - val_loss: 1.1414 - val_acc: 0.5946\n",
      "Epoch 50/70\n",
      "782/782 [==============================] - 20s 26ms/step - loss: 1.0889 - acc: 0.6064 - val_loss: 1.1343 - val_acc: 0.5989\n",
      "Epoch 51/70\n",
      "782/782 [==============================] - 19s 25ms/step - loss: 1.0835 - acc: 0.6090 - val_loss: 1.1487 - val_acc: 0.5936\n",
      "Epoch 52/70\n",
      "782/782 [==============================] - 19s 24ms/step - loss: 1.0692 - acc: 0.6159 - val_loss: 1.1417 - val_acc: 0.5977\n",
      "Epoch 53/70\n",
      "782/782 [==============================] - 20s 25ms/step - loss: 1.0678 - acc: 0.6149 - val_loss: 1.1522 - val_acc: 0.5945\n",
      "Epoch 54/70\n",
      "782/782 [==============================] - 19s 24ms/step - loss: 1.0606 - acc: 0.6191 - val_loss: 1.1394 - val_acc: 0.5988\n",
      "Epoch 55/70\n",
      "782/782 [==============================] - 20s 25ms/step - loss: 1.0532 - acc: 0.6227 - val_loss: 1.1625 - val_acc: 0.5880\n",
      "Epoch 56/70\n",
      "782/782 [==============================] - 19s 25ms/step - loss: 1.0408 - acc: 0.6242 - val_loss: 1.1403 - val_acc: 0.6006\n",
      "Epoch 57/70\n",
      "782/782 [==============================] - 19s 25ms/step - loss: 1.0423 - acc: 0.6236 - val_loss: 1.1481 - val_acc: 0.5949\n",
      "Epoch 58/70\n",
      "782/782 [==============================] - 20s 25ms/step - loss: 1.0294 - acc: 0.6291 - val_loss: 1.1264 - val_acc: 0.6063\n",
      "Epoch 59/70\n",
      "782/782 [==============================] - 19s 25ms/step - loss: 1.0284 - acc: 0.6306 - val_loss: 1.1507 - val_acc: 0.5987\n",
      "Epoch 60/70\n",
      "782/782 [==============================] - 20s 25ms/step - loss: 1.0132 - acc: 0.6364 - val_loss: 1.1640 - val_acc: 0.5985\n",
      "Epoch 61/70\n",
      "782/782 [==============================] - 19s 24ms/step - loss: 1.0172 - acc: 0.6339 - val_loss: 1.1489 - val_acc: 0.6016\n"
     ]
    },
    {
     "name": "stdout",
     "output_type": "stream",
     "text": [
      "Epoch 62/70\n",
      "782/782 [==============================] - 19s 24ms/step - loss: 1.0013 - acc: 0.6379 - val_loss: 1.1774 - val_acc: 0.5915\n",
      "Epoch 63/70\n",
      "782/782 [==============================] - 19s 24ms/step - loss: 0.9975 - acc: 0.6402 - val_loss: 1.1649 - val_acc: 0.5906\n",
      "Epoch 64/70\n",
      "782/782 [==============================] - 19s 24ms/step - loss: 0.9974 - acc: 0.6412 - val_loss: 1.1380 - val_acc: 0.6026\n",
      "Epoch 65/70\n",
      "782/782 [==============================] - 19s 24ms/step - loss: 0.9841 - acc: 0.6466 - val_loss: 1.1528 - val_acc: 0.6013\n",
      "Epoch 66/70\n",
      "782/782 [==============================] - 19s 24ms/step - loss: 0.9766 - acc: 0.6470 - val_loss: 1.1571 - val_acc: 0.5991\n",
      "Epoch 67/70\n",
      "782/782 [==============================] - 19s 24ms/step - loss: 0.9770 - acc: 0.6464 - val_loss: 1.1541 - val_acc: 0.6029\n",
      "Epoch 68/70\n",
      "782/782 [==============================] - 19s 24ms/step - loss: 0.9671 - acc: 0.6525 - val_loss: 1.1385 - val_acc: 0.6029\n",
      "Epoch 69/70\n",
      "782/782 [==============================] - 20s 25ms/step - loss: 0.9548 - acc: 0.6558 - val_loss: 1.1488 - val_acc: 0.6065\n",
      "Epoch 70/70\n",
      "782/782 [==============================] - 19s 24ms/step - loss: 0.9539 - acc: 0.6569 - val_loss: 1.1450 - val_acc: 0.6085\n",
      "_________________________________________________________________\n",
      "Layer (type)                 Output Shape              Param #   \n",
      "=================================================================\n",
      "flatten (Flatten)            (None, 3072)              0         \n",
      "_________________________________________________________________\n",
      "block_sparse (BlockSparse)   (None, 2048)              1415168   \n",
      "_________________________________________________________________\n",
      "block_sparse_1 (BlockSparse) (None, 2048)              1155072   \n",
      "_________________________________________________________________\n",
      "block_sparse_2 (BlockSparse) (None, 1024)              763904    \n",
      "_________________________________________________________________\n",
      "dropout (Dropout)            (None, 1024)              0         \n",
      "_________________________________________________________________\n",
      "dense (Dense)                (None, 10)                10250     \n",
      "=================================================================\n",
      "Total params: 3,344,394\n",
      "Trainable params: 3,344,394\n",
      "Non-trainable params: 0\n",
      "_________________________________________________________________\n",
      "10000/10000 [==============================] - 1s 82us/step\n"
     ]
    },
    {
     "data": {
      "text/plain": [
       "[1.1449687225341796, 0.6085]"
      ]
     },
     "execution_count": 4,
     "metadata": {},
     "output_type": "execute_result"
    }
   ],
   "source": [
    "# Compile train and evaluate\n",
    "model.compile(optimizer=tf.train.MomentumOptimizer(learning_rate=0.01, momentum=0.9),\n",
    "              loss='sparse_categorical_crossentropy',\n",
    "              metrics=['accuracy'])\n",
    "model.fit_generator(gen_flow, epochs=70, workers=2, validation_data=(x_test, y_test))\n",
    "model.summary()\n",
    "model.evaluate(x_test, y_test)"
   ]
  },
  {
   "cell_type": "code",
   "execution_count": 5,
   "metadata": {
    "scrolled": false
   },
   "outputs": [
    {
     "name": "stdout",
     "output_type": "stream",
     "text": [
      "WARNING:tensorflow:TensorFlow optimizers do not make it possible to access optimizer attributes or optimizer state after instantiation. As a result, we cannot save the optimizer as part of the model save file.You will have to compile your model again after loading it. Prefer using a Keras optimizer instead (see keras.io/optimizers).\n",
      "WARNING:tensorflow:No training configuration found in save file: the model was *not* compiled. Compile it manually.\n",
      "10000/10000 [==============================] - 1s 92us/step\n"
     ]
    },
    {
     "data": {
      "text/plain": [
       "[1.144968727684021, 0.6085]"
      ]
     },
     "execution_count": 5,
     "metadata": {},
     "output_type": "execute_result"
    }
   ],
   "source": [
    "# Save the model and reload it\n",
    "model.save('blocksparse_model.h5')\n",
    "del model\n",
    "\n",
    "model = tf.keras.models.load_model('blocksparse_model.h5', custom_objects={'BlockSparse':BlockSparse})\n",
    "model.compile(optimizer=tf.train.MomentumOptimizer(learning_rate=0.01, momentum=0.9),\n",
    "              loss='sparse_categorical_crossentropy',\n",
    "              metrics=['accuracy'])\n",
    "model.evaluate(x_test, y_test)"
   ]
  },
  {
   "cell_type": "code",
   "execution_count": 6,
   "metadata": {},
   "outputs": [
    {
     "name": "stdout",
     "output_type": "stream",
     "text": [
      "10000/10000 [==============================] - 1s 94us/step\n"
     ]
    },
    {
     "data": {
      "text/plain": [
       "[1.1449687286376953, 0.6085]"
      ]
     },
     "execution_count": 6,
     "metadata": {},
     "output_type": "execute_result"
    }
   ],
   "source": [
    "# Save and restore using model config and get weights seperately\n",
    "config = model.get_config()\n",
    "weights = model.get_weights()\n",
    "del model\n",
    "\n",
    "model = tf.keras.Sequential.from_config(config, custom_objects={'BlockSparse':BlockSparse})\n",
    "model.set_weights(weights)\n",
    "\n",
    "model.compile(optimizer=tf.train.MomentumOptimizer(learning_rate=0.01, momentum=0.9),\n",
    "              loss='sparse_categorical_crossentropy',\n",
    "              metrics=['accuracy'])\n",
    "model.evaluate(x_test, y_test)"
   ]
  }
 ],
 "metadata": {
  "kernelspec": {
   "display_name": "Python 3",
   "language": "python",
   "name": "python3"
  },
  "language_info": {
   "codemirror_mode": {
    "name": "ipython",
    "version": 3
   },
   "file_extension": ".py",
   "mimetype": "text/x-python",
   "name": "python",
   "nbconvert_exporter": "python",
   "pygments_lexer": "ipython3",
   "version": "3.6.6"
  }
 },
 "nbformat": 4,
 "nbformat_minor": 2
}
